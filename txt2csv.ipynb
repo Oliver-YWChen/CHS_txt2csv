{
 "cells": [
  {
   "cell_type": "code",
   "execution_count": null,
   "metadata": {},
   "outputs": [],
   "source": []
  },
  {
   "cell_type": "code",
   "execution_count": 10,
   "metadata": {},
   "outputs": [
    {
     "name": "stdout",
     "output_type": "stream",
     "text": [
      "['\"A01a', '\"', '\"190123.803', '\"', '\"2629855.085', '\"', '41.759', '\"A01b', '\"', '\"190123.819']\n"
     ]
    }
   ],
   "source": [
    "f = open('20230418_每點成果.txt','r')\n",
    "file = f.read()\n",
    "file = file.split()\n",
    "\n",
    "print(file[:10])"
   ]
  },
  {
   "cell_type": "code",
   "execution_count": 15,
   "metadata": {},
   "outputs": [
    {
     "ename": "SyntaxError",
     "evalue": "invalid syntax (Temp/ipykernel_10700/717836793.py, line 5)",
     "output_type": "error",
     "traceback": [
      "\u001b[1;36m  File \u001b[1;32m\"C:\\Users\\foys8\\AppData\\Local\\Temp/ipykernel_10700/717836793.py\"\u001b[1;36m, line \u001b[1;32m5\u001b[0m\n\u001b[1;33m    writer.writerow([12;34;5])\u001b[0m\n\u001b[1;37m                       ^\u001b[0m\n\u001b[1;31mSyntaxError\u001b[0m\u001b[1;31m:\u001b[0m invalid syntax\n"
     ]
    }
   ],
   "source": [
    "import csv\n",
    "\n",
    "with open('output.csv', 'w', newline='') as csvfile:\n",
    "    writer = csv.writer(csvfile)\n",
    "    writer.writerow([12,34,5])"
   ]
  }
 ],
 "metadata": {
  "kernelspec": {
   "display_name": "Python 3",
   "language": "python",
   "name": "python3"
  },
  "language_info": {
   "codemirror_mode": {
    "name": "ipython",
    "version": 3
   },
   "file_extension": ".py",
   "mimetype": "text/x-python",
   "name": "python",
   "nbconvert_exporter": "python",
   "pygments_lexer": "ipython3",
   "version": "3.9.9"
  },
  "orig_nbformat": 4,
  "vscode": {
   "interpreter": {
    "hash": "b59eeb93c2b4375ec8a1efc106d8bb6c2abb2c86b3d2836f5465cf51ed75038d"
   }
  }
 },
 "nbformat": 4,
 "nbformat_minor": 2
}
